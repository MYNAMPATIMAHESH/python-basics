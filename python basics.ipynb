{
 "cells": [
  {
   "cell_type": "markdown",
   "id": "1e4ec778",
   "metadata": {},
   "source": [
    "### simple program"
   ]
  },
  {
   "cell_type": "code",
   "execution_count": 37,
   "id": "1218677f",
   "metadata": {},
   "outputs": [
    {
     "name": "stdout",
     "output_type": "stream",
     "text": [
      "hello world\n"
     ]
    }
   ],
   "source": [
    "print(\"hello world\")"
   ]
  },
  {
   "cell_type": "code",
   "execution_count": 38,
   "id": "a636c743",
   "metadata": {},
   "outputs": [
    {
     "name": "stdout",
     "output_type": "stream",
     "text": [
      "mahesh\n"
     ]
    }
   ],
   "source": [
    "print(\"mahesh\")"
   ]
  },
  {
   "cell_type": "code",
   "execution_count": 39,
   "id": "a2402d31",
   "metadata": {},
   "outputs": [
    {
     "ename": "NameError",
     "evalue": "name 'mahi' is not defined",
     "output_type": "error",
     "traceback": [
      "\u001b[1;31m---------------------------------------------------------------------------\u001b[0m",
      "\u001b[1;31mNameError\u001b[0m                                 Traceback (most recent call last)",
      "Cell \u001b[1;32mIn[39], line 1\u001b[0m\n\u001b[1;32m----> 1\u001b[0m \u001b[38;5;28mprint\u001b[39m(mahi)\n",
      "\u001b[1;31mNameError\u001b[0m: name 'mahi' is not defined"
     ]
    }
   ],
   "source": [
    "print(mahi)"
   ]
  },
  {
   "cell_type": "markdown",
   "id": "f8ba4b4f",
   "metadata": {},
   "source": [
    "### variables\n"
   ]
  },
  {
   "cell_type": "markdown",
   "id": "cde9b967",
   "metadata": {},
   "source": [
    "name=mahesh\n",
    "age=20\n",
    "print(name)"
   ]
  },
  {
   "cell_type": "code",
   "execution_count": null,
   "id": "c8f79213",
   "metadata": {},
   "outputs": [],
   "source": [
    "print(name)"
   ]
  },
  {
   "cell_type": "code",
   "execution_count": null,
   "id": "8a4e98a7",
   "metadata": {},
   "outputs": [],
   "source": [
    "name=mahesh\n",
    "age=20\n",
    "print(name)"
   ]
  },
  {
   "cell_type": "code",
   "execution_count": null,
   "id": "9c69df2c",
   "metadata": {},
   "outputs": [],
   "source": [
    "name=\"mahesh\"\n",
    "print(name)"
   ]
  },
  {
   "cell_type": "code",
   "execution_count": null,
   "id": "863a299c",
   "metadata": {},
   "outputs": [],
   "source": [
    "age=\"20\"\n",
    "print(age)"
   ]
  },
  {
   "cell_type": "code",
   "execution_count": null,
   "id": "50dcbf98",
   "metadata": {},
   "outputs": [],
   "source": [
    "name=\"mahi\",\"smile\"\n",
    "print(name)"
   ]
  },
  {
   "cell_type": "code",
   "execution_count": null,
   "id": "7910b759",
   "metadata": {},
   "outputs": [],
   "source": [
    "### data types\n"
   ]
  },
  {
   "cell_type": "code",
   "execution_count": null,
   "id": "1a71d5bf",
   "metadata": {},
   "outputs": [],
   "source": [
    "x=10\n",
    "type(x)"
   ]
  },
  {
   "cell_type": "code",
   "execution_count": null,
   "id": "03275c64",
   "metadata": {},
   "outputs": [],
   "source": [
    "x=mahi\n",
    "print(x)"
   ]
  },
  {
   "cell_type": "code",
   "execution_count": null,
   "id": "97c3bad3",
   "metadata": {},
   "outputs": [],
   "source": [
    "x=\"mahi\"\n",
    "print(x)"
   ]
  },
  {
   "cell_type": "code",
   "execution_count": null,
   "id": "8c78eb69",
   "metadata": {},
   "outputs": [],
   "source": [
    "a=2.5\n",
    "print(a)"
   ]
  },
  {
   "cell_type": "code",
   "execution_count": null,
   "id": "4dc0bf77",
   "metadata": {},
   "outputs": [],
   "source": [
    "type(a)"
   ]
  },
  {
   "cell_type": "code",
   "execution_count": null,
   "id": "97fd2916",
   "metadata": {},
   "outputs": [],
   "source": [
    "type(x)"
   ]
  },
  {
   "cell_type": "markdown",
   "id": "48d3f80c",
   "metadata": {},
   "source": [
    "### list\n"
   ]
  },
  {
   "cell_type": "code",
   "execution_count": null,
   "id": "94de5597",
   "metadata": {},
   "outputs": [],
   "source": [
    "sample_list(1,4,5,5,6,2,7)\n",
    "print(sample_list)"
   ]
  },
  {
   "cell_type": "code",
   "execution_count": null,
   "id": "a5a99270",
   "metadata": {},
   "outputs": [],
   "source": [
    "simple_list(1,5,5,8,5)"
   ]
  },
  {
   "cell_type": "code",
   "execution_count": null,
   "id": "0bed4848",
   "metadata": {},
   "outputs": [],
   "source": [
    "simple_list(3)"
   ]
  },
  {
   "cell_type": "code",
   "execution_count": null,
   "id": "2928b6cc",
   "metadata": {},
   "outputs": [],
   "source": [
    "simple_list[4,5,8,4,2]\n",
    "simple_list[3]"
   ]
  },
  {
   "cell_type": "code",
   "execution_count": null,
   "id": "09ae84d3",
   "metadata": {},
   "outputs": [],
   "source": [
    "sample_list=[4,5,1,2]\n",
    "type(sample_list)"
   ]
  },
  {
   "cell_type": "code",
   "execution_count": null,
   "id": "68426c0e",
   "metadata": {},
   "outputs": [],
   "source": [
    "sample_list[3]"
   ]
  },
  {
   "cell_type": "code",
   "execution_count": null,
   "id": "edb007ab",
   "metadata": {},
   "outputs": [],
   "source": [
    "sample_list[-2]"
   ]
  },
  {
   "cell_type": "code",
   "execution_count": null,
   "id": "5b569760",
   "metadata": {},
   "outputs": [],
   "source": [
    "sample_list[2]=120"
   ]
  },
  {
   "cell_type": "code",
   "execution_count": null,
   "id": "894c70c2",
   "metadata": {},
   "outputs": [],
   "source": [
    "print(sample_list)"
   ]
  },
  {
   "cell_type": "code",
   "execution_count": null,
   "id": "6150df6c",
   "metadata": {},
   "outputs": [],
   "source": [
    "sample_tuple=(1,4,5,7,8)\n",
    "type(sample_tuple)"
   ]
  },
  {
   "cell_type": "code",
   "execution_count": null,
   "id": "abc4f398",
   "metadata": {},
   "outputs": [],
   "source": [
    "sample_tuple(3)"
   ]
  },
  {
   "cell_type": "code",
   "execution_count": null,
   "id": "fb1e32f0",
   "metadata": {},
   "outputs": [],
   "source": [
    "sample_tuple"
   ]
  },
  {
   "cell_type": "code",
   "execution_count": null,
   "id": "108b42c9",
   "metadata": {
    "scrolled": true
   },
   "outputs": [],
   "source": [
    "sample_tuple(2)=20"
   ]
  },
  {
   "cell_type": "code",
   "execution_count": null,
   "id": "ab01b322",
   "metadata": {},
   "outputs": [],
   "source": [
    "sample_tuple(2)==28"
   ]
  },
  {
   "cell_type": "code",
   "execution_count": null,
   "id": "6aac599b",
   "metadata": {},
   "outputs": [],
   "source": [
    "sample_tuple[2]"
   ]
  },
  {
   "cell_type": "code",
   "execution_count": null,
   "id": "a7979d18",
   "metadata": {},
   "outputs": [],
   "source": [
    "sample_tuple[2]=24"
   ]
  },
  {
   "cell_type": "code",
   "execution_count": null,
   "id": "5102410e",
   "metadata": {},
   "outputs": [],
   "source": [
    "sample_tuple=(1,2,4,5,1,5,1)\n",
    "sample_tuple"
   ]
  },
  {
   "cell_type": "code",
   "execution_count": null,
   "id": "88fead0c",
   "metadata": {},
   "outputs": [],
   "source": [
    "print(sample_tuple)"
   ]
  },
  {
   "cell_type": "code",
   "execution_count": 1,
   "id": "0e1d1b05",
   "metadata": {},
   "outputs": [],
   "source": [
    "### sets\n"
   ]
  },
  {
   "cell_type": "code",
   "execution_count": 2,
   "id": "5455493c",
   "metadata": {},
   "outputs": [],
   "source": [
    "sample_set={1,2,3,4,5,1,-1,9,6.5,\"hi\",\"helo\",\"mahi\",\"anu\",4,5,8,7}\n"
   ]
  },
  {
   "cell_type": "code",
   "execution_count": 3,
   "id": "3166f14f",
   "metadata": {},
   "outputs": [
    {
     "data": {
      "text/plain": [
       "{-1, 1, 2, 3, 4, 5, 6.5, 7, 8, 9, 'anu', 'helo', 'hi', 'mahi'}"
      ]
     },
     "execution_count": 3,
     "metadata": {},
     "output_type": "execute_result"
    }
   ],
   "source": [
    "sample_set"
   ]
  },
  {
   "cell_type": "code",
   "execution_count": 4,
   "id": "b4ba1663",
   "metadata": {},
   "outputs": [
    {
     "ename": "TypeError",
     "evalue": "'set' object is not subscriptable",
     "output_type": "error",
     "traceback": [
      "\u001b[1;31m---------------------------------------------------------------------------\u001b[0m",
      "\u001b[1;31mTypeError\u001b[0m                                 Traceback (most recent call last)",
      "Cell \u001b[1;32mIn[4], line 1\u001b[0m\n\u001b[1;32m----> 1\u001b[0m sample_set[\u001b[38;5;241m0\u001b[39m]\n",
      "\u001b[1;31mTypeError\u001b[0m: 'set' object is not subscriptable"
     ]
    }
   ],
   "source": [
    "sample_set[0]"
   ]
  },
  {
   "cell_type": "code",
   "execution_count": 5,
   "id": "167d2ff7",
   "metadata": {},
   "outputs": [
    {
     "ename": "NameError",
     "evalue": "name 'simple_set' is not defined",
     "output_type": "error",
     "traceback": [
      "\u001b[1;31m---------------------------------------------------------------------------\u001b[0m",
      "\u001b[1;31mNameError\u001b[0m                                 Traceback (most recent call last)",
      "Cell \u001b[1;32mIn[5], line 1\u001b[0m\n\u001b[1;32m----> 1\u001b[0m simple_set[\u001b[38;5;241m1\u001b[39m]\u001b[38;5;241m=\u001b[39m\u001b[38;5;241m7\u001b[39m\n",
      "\u001b[1;31mNameError\u001b[0m: name 'simple_set' is not defined"
     ]
    }
   ],
   "source": [
    "simple_set[1]=7"
   ]
  },
  {
   "cell_type": "code",
   "execution_count": 6,
   "id": "8072e0a5",
   "metadata": {},
   "outputs": [
    {
     "ename": "NameError",
     "evalue": "name 'simple_set' is not defined",
     "output_type": "error",
     "traceback": [
      "\u001b[1;31m---------------------------------------------------------------------------\u001b[0m",
      "\u001b[1;31mNameError\u001b[0m                                 Traceback (most recent call last)",
      "Cell \u001b[1;32mIn[6], line 1\u001b[0m\n\u001b[1;32m----> 1\u001b[0m simple_set\u001b[38;5;241m.\u001b[39madd(\u001b[38;5;241m100\u001b[39m)\n",
      "\u001b[1;31mNameError\u001b[0m: name 'simple_set' is not defined"
     ]
    }
   ],
   "source": [
    "simple_set.add(100)"
   ]
  },
  {
   "cell_type": "code",
   "execution_count": 7,
   "id": "acdccf10",
   "metadata": {},
   "outputs": [
    {
     "ename": "TypeError",
     "evalue": "'set' object does not support item assignment",
     "output_type": "error",
     "traceback": [
      "\u001b[1;31m---------------------------------------------------------------------------\u001b[0m",
      "\u001b[1;31mTypeError\u001b[0m                                 Traceback (most recent call last)",
      "Cell \u001b[1;32mIn[7], line 1\u001b[0m\n\u001b[1;32m----> 1\u001b[0m sample_set[\u001b[38;5;241m2\u001b[39m]\u001b[38;5;241m=\u001b[39m\u001b[38;5;241m5\u001b[39m\n",
      "\u001b[1;31mTypeError\u001b[0m: 'set' object does not support item assignment"
     ]
    }
   ],
   "source": [
    "sample_set[2]=5"
   ]
  },
  {
   "cell_type": "code",
   "execution_count": 8,
   "id": "0d4a8f00",
   "metadata": {},
   "outputs": [
    {
     "ename": "AttributeError",
     "evalue": "'set' object attribute 'add' is read-only",
     "output_type": "error",
     "traceback": [
      "\u001b[1;31m---------------------------------------------------------------------------\u001b[0m",
      "\u001b[1;31mAttributeError\u001b[0m                            Traceback (most recent call last)",
      "Cell \u001b[1;32mIn[8], line 1\u001b[0m\n\u001b[1;32m----> 1\u001b[0m sample_set\u001b[38;5;241m.\u001b[39madd\u001b[38;5;241m=\u001b[39m(\u001b[38;5;241m50\u001b[39m)\n",
      "\u001b[1;31mAttributeError\u001b[0m: 'set' object attribute 'add' is read-only"
     ]
    }
   ],
   "source": [
    "sample_set.add=(50)"
   ]
  },
  {
   "cell_type": "code",
   "execution_count": 9,
   "id": "6adde04a",
   "metadata": {},
   "outputs": [],
   "source": [
    "sample_set.add(50)"
   ]
  },
  {
   "cell_type": "code",
   "execution_count": 10,
   "id": "331da1a7",
   "metadata": {},
   "outputs": [],
   "source": [
    "sample_set.remove(-1)"
   ]
  },
  {
   "cell_type": "code",
   "execution_count": 11,
   "id": "87e8a9f9",
   "metadata": {},
   "outputs": [
    {
     "data": {
      "text/plain": [
       "{1, 2, 3, 4, 5, 50, 6.5, 7, 8, 9, 'anu', 'helo', 'hi', 'mahi'}"
      ]
     },
     "execution_count": 11,
     "metadata": {},
     "output_type": "execute_result"
    }
   ],
   "source": [
    "sample_set"
   ]
  },
  {
   "cell_type": "markdown",
   "id": "bf1661eb",
   "metadata": {},
   "source": [
    "    set does not allow duplicates\n",
    "    we cannot retrieve elements from set\n",
    "    set is mutableset\n",
    "    set has{}"
   ]
  },
  {
   "cell_type": "markdown",
   "id": "9c004282",
   "metadata": {},
   "source": [
    "### distionary\n",
    "## key-value pair\n",
    "## indexing square brackets\n",
    "## mutable\n"
   ]
  },
  {
   "cell_type": "code",
   "execution_count": 12,
   "id": "b5ebba8c",
   "metadata": {},
   "outputs": [],
   "source": [
    "dict_1={'name':\"mahesh\",'bobbies':['reading','writting'],1:2}"
   ]
  },
  {
   "cell_type": "markdown",
   "id": "0ad0e305",
   "metadata": {},
   "source": [
    "name,hobbies,1 are keys\n",
    "mahesh,2 are values"
   ]
  },
  {
   "cell_type": "code",
   "execution_count": 13,
   "id": "80ea57e3",
   "metadata": {},
   "outputs": [
    {
     "ename": "NameError",
     "evalue": "name 'dict_1' is not defined",
     "output_type": "error",
     "traceback": [
      "\u001b[1;31m---------------------------------------------------------------------------\u001b[0m",
      "\u001b[1;31mNameError\u001b[0m                                 Traceback (most recent call last)",
      "Cell \u001b[1;32mIn[13], line 1\u001b[0m\n\u001b[1;32m----> 1\u001b[0m dict_1\n",
      "\u001b[1;31mNameError\u001b[0m: name 'dict_1' is not defined"
     ]
    }
   ],
   "source": [
    "dict_1"
   ]
  },
  {
   "cell_type": "code",
   "execution_count": 14,
   "id": "10ce584e",
   "metadata": {},
   "outputs": [
    {
     "data": {
      "text/plain": [
       "{'name': 'mahesh', 'bobbies': ['reading', 'writting'], 1: 2}"
      ]
     },
     "execution_count": 14,
     "metadata": {},
     "output_type": "execute_result"
    }
   ],
   "source": [
    "dist_1"
   ]
  },
  {
   "cell_type": "code",
   "execution_count": 15,
   "id": "e5caae4b",
   "metadata": {},
   "outputs": [
    {
     "data": {
      "text/plain": [
       "<function dict.keys>"
      ]
     },
     "execution_count": 15,
     "metadata": {},
     "output_type": "execute_result"
    }
   ],
   "source": [
    "dict_1.keys"
   ]
  },
  {
   "cell_type": "code",
   "execution_count": 16,
   "id": "6ea05b7e",
   "metadata": {},
   "outputs": [
    {
     "data": {
      "text/plain": [
       "<function dict.values>"
      ]
     },
     "execution_count": 16,
     "metadata": {},
     "output_type": "execute_result"
    }
   ],
   "source": [
    "dict_1.values"
   ]
  },
  {
   "cell_type": "code",
   "execution_count": 17,
   "id": "7bbe3f53",
   "metadata": {},
   "outputs": [
    {
     "data": {
      "text/plain": [
       "dict_values(['mahesh', ['reading', 'writting'], 2])"
      ]
     },
     "execution_count": 17,
     "metadata": {},
     "output_type": "execute_result"
    }
   ],
   "source": [
    "dict_1.values()"
   ]
  },
  {
   "cell_type": "code",
   "execution_count": 18,
   "id": "887661d8",
   "metadata": {},
   "outputs": [
    {
     "data": {
      "text/plain": [
       "dict_keys(['name', 'bobbies', 1])"
      ]
     },
     "execution_count": 18,
     "metadata": {},
     "output_type": "execute_result"
    }
   ],
   "source": [
    "dict_1.keys()"
   ]
  },
  {
   "cell_type": "code",
   "execution_count": 19,
   "id": "2df72ed1",
   "metadata": {},
   "outputs": [
    {
     "ename": "TypeError",
     "evalue": "'dict' object is not callable",
     "output_type": "error",
     "traceback": [
      "\u001b[1;31m---------------------------------------------------------------------------\u001b[0m",
      "\u001b[1;31mTypeError\u001b[0m                                 Traceback (most recent call last)",
      "Cell \u001b[1;32mIn[19], line 1\u001b[0m\n\u001b[1;32m----> 1\u001b[0m dist_1(\u001b[38;5;124m'\u001b[39m\u001b[38;5;124mname\u001b[39m\u001b[38;5;124m'\u001b[39m)\n",
      "\u001b[1;31mTypeError\u001b[0m: 'dict' object is not callable"
     ]
    }
   ],
   "source": [
    "dist_1('name')"
   ]
  },
  {
   "cell_type": "code",
   "execution_count": 20,
   "id": "e208792e",
   "metadata": {},
   "outputs": [
    {
     "ename": "NameError",
     "evalue": "name 'dict_1' is not defined",
     "output_type": "error",
     "traceback": [
      "\u001b[1;31m---------------------------------------------------------------------------\u001b[0m",
      "\u001b[1;31mNameError\u001b[0m                                 Traceback (most recent call last)",
      "Cell \u001b[1;32mIn[20], line 1\u001b[0m\n\u001b[1;32m----> 1\u001b[0m \u001b[38;5;28;01mdel\u001b[39;00m dict_1[\u001b[38;5;124m\"\u001b[39m\u001b[38;5;124mname\u001b[39m\u001b[38;5;124m\"\u001b[39m]\n",
      "\u001b[1;31mNameError\u001b[0m: name 'dict_1' is not defined"
     ]
    }
   ],
   "source": [
    "del dict_1[\"name\"]"
   ]
  },
  {
   "cell_type": "code",
   "execution_count": 21,
   "id": "d910b463",
   "metadata": {},
   "outputs": [
    {
     "ename": "NameError",
     "evalue": "name 'dict_1' is not defined",
     "output_type": "error",
     "traceback": [
      "\u001b[1;31m---------------------------------------------------------------------------\u001b[0m",
      "\u001b[1;31mNameError\u001b[0m                                 Traceback (most recent call last)",
      "Cell \u001b[1;32mIn[21], line 1\u001b[0m\n\u001b[1;32m----> 1\u001b[0m \u001b[38;5;28;01mdel\u001b[39;00m dict_1[\u001b[38;5;124m\"\u001b[39m\u001b[38;5;124mname\u001b[39m\u001b[38;5;124m\"\u001b[39m]\n",
      "\u001b[1;31mNameError\u001b[0m: name 'dict_1' is not defined"
     ]
    }
   ],
   "source": [
    "del dict_1[\"name\"]"
   ]
  },
  {
   "cell_type": "code",
   "execution_count": 22,
   "id": "125c5bbc",
   "metadata": {},
   "outputs": [
    {
     "ename": "SyntaxError",
     "evalue": "invalid syntax (2520839886.py, line 1)",
     "output_type": "error",
     "traceback": [
      "\u001b[1;36m  Cell \u001b[1;32mIn[22], line 1\u001b[1;36m\u001b[0m\n\u001b[1;33m    del dict[\"name\"]=\"mahesh\"\u001b[0m\n\u001b[1;37m                    ^\u001b[0m\n\u001b[1;31mSyntaxError\u001b[0m\u001b[1;31m:\u001b[0m invalid syntax\n"
     ]
    }
   ],
   "source": [
    "del dict[\"name\"]=\"mahesh\""
   ]
  },
  {
   "cell_type": "code",
   "execution_count": 23,
   "id": "625de1c5",
   "metadata": {},
   "outputs": [
    {
     "ename": "SyntaxError",
     "evalue": "invalid syntax (4221934734.py, line 1)",
     "output_type": "error",
     "traceback": [
      "\u001b[1;36m  Cell \u001b[1;32mIn[23], line 1\u001b[1;36m\u001b[0m\n\u001b[1;33m    del dict_1[\"name\"]=\"mahesh\"\u001b[0m\n\u001b[1;37m                      ^\u001b[0m\n\u001b[1;31mSyntaxError\u001b[0m\u001b[1;31m:\u001b[0m invalid syntax\n"
     ]
    }
   ],
   "source": [
    "del dict_1[\"name\"]=\"mahesh\""
   ]
  },
  {
   "cell_type": "code",
   "execution_count": 24,
   "id": "c4bcef5a",
   "metadata": {},
   "outputs": [
    {
     "ename": "NameError",
     "evalue": "name 'dict_1' is not defined",
     "output_type": "error",
     "traceback": [
      "\u001b[1;31m---------------------------------------------------------------------------\u001b[0m",
      "\u001b[1;31mNameError\u001b[0m                                 Traceback (most recent call last)",
      "Cell \u001b[1;32mIn[24], line 1\u001b[0m\n\u001b[1;32m----> 1\u001b[0m dict_1\n",
      "\u001b[1;31mNameError\u001b[0m: name 'dict_1' is not defined"
     ]
    }
   ],
   "source": [
    "dict_1"
   ]
  },
  {
   "cell_type": "code",
   "execution_count": 25,
   "id": "7eef16d7",
   "metadata": {},
   "outputs": [],
   "source": [
    "dict_1={'name':\"mahesh\",'bobbies':['reading','writting'],1:2}"
   ]
  },
  {
   "cell_type": "code",
   "execution_count": 26,
   "id": "0b09f266",
   "metadata": {},
   "outputs": [
    {
     "data": {
      "text/plain": [
       "{'name': 'mahesh', 'bobbies': ['reading', 'writting'], 1: 2}"
      ]
     },
     "execution_count": 26,
     "metadata": {},
     "output_type": "execute_result"
    }
   ],
   "source": [
    "dict_1"
   ]
  },
  {
   "cell_type": "code",
   "execution_count": 27,
   "id": "92c04fd4",
   "metadata": {},
   "outputs": [],
   "source": [
    "dict_1[\"name\"]=\"mahesh\""
   ]
  },
  {
   "cell_type": "code",
   "execution_count": 28,
   "id": "5b0b24c7",
   "metadata": {},
   "outputs": [
    {
     "ename": "TypeError",
     "evalue": "'type' object does not support item deletion",
     "output_type": "error",
     "traceback": [
      "\u001b[1;31m---------------------------------------------------------------------------\u001b[0m",
      "\u001b[1;31mTypeError\u001b[0m                                 Traceback (most recent call last)",
      "Cell \u001b[1;32mIn[28], line 1\u001b[0m\n\u001b[1;32m----> 1\u001b[0m \u001b[38;5;28;01mdel\u001b[39;00m \u001b[38;5;28mdict\u001b[39m[\u001b[38;5;124m\"\u001b[39m\u001b[38;5;124mname\u001b[39m\u001b[38;5;124m\"\u001b[39m]\n",
      "\u001b[1;31mTypeError\u001b[0m: 'type' object does not support item deletion"
     ]
    }
   ],
   "source": [
    "del dict[\"name\"]"
   ]
  },
  {
   "cell_type": "code",
   "execution_count": 29,
   "id": "91445467",
   "metadata": {},
   "outputs": [],
   "source": [
    "del dict_1[\"name\"]"
   ]
  },
  {
   "cell_type": "code",
   "execution_count": 30,
   "id": "66a64956",
   "metadata": {},
   "outputs": [
    {
     "ename": "TypeError",
     "evalue": "unsupported operand type(s) for -: 'type' and 'int'",
     "output_type": "error",
     "traceback": [
      "\u001b[1;31m---------------------------------------------------------------------------\u001b[0m",
      "\u001b[1;31mTypeError\u001b[0m                                 Traceback (most recent call last)",
      "Cell \u001b[1;32mIn[30], line 1\u001b[0m\n\u001b[1;32m----> 1\u001b[0m \u001b[38;5;28mdict\u001b[39m\u001b[38;5;241m-\u001b[39m\u001b[38;5;241m1\u001b[39m\n",
      "\u001b[1;31mTypeError\u001b[0m: unsupported operand type(s) for -: 'type' and 'int'"
     ]
    }
   ],
   "source": [
    "dict-1"
   ]
  },
  {
   "cell_type": "code",
   "execution_count": 31,
   "id": "3acc8b2c",
   "metadata": {},
   "outputs": [
    {
     "data": {
      "text/plain": [
       "{'bobbies': ['reading', 'writting'], 1: 2}"
      ]
     },
     "execution_count": 31,
     "metadata": {},
     "output_type": "execute_result"
    }
   ],
   "source": [
    "dict_1"
   ]
  },
  {
   "cell_type": "code",
   "execution_count": 32,
   "id": "5e9bf90c",
   "metadata": {},
   "outputs": [
    {
     "ename": "KeyError",
     "evalue": "'hobbies'",
     "output_type": "error",
     "traceback": [
      "\u001b[1;31m---------------------------------------------------------------------------\u001b[0m",
      "\u001b[1;31mKeyError\u001b[0m                                  Traceback (most recent call last)",
      "Cell \u001b[1;32mIn[32], line 1\u001b[0m\n\u001b[1;32m----> 1\u001b[0m \u001b[38;5;28;01mdel\u001b[39;00m dict_1[\u001b[38;5;124m\"\u001b[39m\u001b[38;5;124mhobbies\u001b[39m\u001b[38;5;124m\"\u001b[39m]\n",
      "\u001b[1;31mKeyError\u001b[0m: 'hobbies'"
     ]
    }
   ],
   "source": [
    "del dict_1[\"hobbies\"]"
   ]
  },
  {
   "cell_type": "code",
   "execution_count": 33,
   "id": "cc7cb1cc",
   "metadata": {},
   "outputs": [],
   "source": [
    "dict_1[\"hobbies\"]=\"reading\""
   ]
  },
  {
   "cell_type": "code",
   "execution_count": 34,
   "id": "6907da21",
   "metadata": {},
   "outputs": [],
   "source": [
    "del dict_1[\"hobbies\"]"
   ]
  },
  {
   "cell_type": "code",
   "execution_count": 35,
   "id": "49fb6d93",
   "metadata": {},
   "outputs": [
    {
     "data": {
      "text/plain": [
       "{'bobbies': ['reading', 'writting'], 1: 2}"
      ]
     },
     "execution_count": 35,
     "metadata": {},
     "output_type": "execute_result"
    }
   ],
   "source": [
    "dict_1"
   ]
  },
  {
   "cell_type": "code",
   "execution_count": 36,
   "id": "ce6b697c",
   "metadata": {},
   "outputs": [],
   "source": [
    "dict_1.update({\"class\":\"ms\"})"
   ]
  },
  {
   "cell_type": "code",
   "execution_count": 37,
   "id": "adbf7e04",
   "metadata": {},
   "outputs": [
    {
     "data": {
      "text/plain": [
       "{'bobbies': ['reading', 'writting'], 1: 2, 'class': 'ms'}"
      ]
     },
     "execution_count": 37,
     "metadata": {},
     "output_type": "execute_result"
    }
   ],
   "source": [
    "dict_1"
   ]
  },
  {
   "cell_type": "code",
   "execution_count": 38,
   "id": "caea9ecd",
   "metadata": {},
   "outputs": [
    {
     "ename": "KeyError",
     "evalue": "'hobbies'",
     "output_type": "error",
     "traceback": [
      "\u001b[1;31m---------------------------------------------------------------------------\u001b[0m",
      "\u001b[1;31mKeyError\u001b[0m                                  Traceback (most recent call last)",
      "Cell \u001b[1;32mIn[38], line 1\u001b[0m\n\u001b[1;32m----> 1\u001b[0m \u001b[38;5;28;01mdel\u001b[39;00m dict_1[\u001b[38;5;124m\"\u001b[39m\u001b[38;5;124mhobbies\u001b[39m\u001b[38;5;124m\"\u001b[39m]\n",
      "\u001b[1;31mKeyError\u001b[0m: 'hobbies'"
     ]
    }
   ],
   "source": [
    "del dict_1[\"hobbies\"]"
   ]
  },
  {
   "cell_type": "code",
   "execution_count": 39,
   "id": "542c6554",
   "metadata": {},
   "outputs": [
    {
     "ename": "SyntaxError",
     "evalue": "invalid syntax (3342565298.py, line 1)",
     "output_type": "error",
     "traceback": [
      "\u001b[1;36m  Cell \u001b[1;32mIn[39], line 1\u001b[1;36m\u001b[0m\n\u001b[1;33m    del dict_1[\"hobbies\"]=\"reading\",\"writting\"\u001b[0m\n\u001b[1;37m                         ^\u001b[0m\n\u001b[1;31mSyntaxError\u001b[0m\u001b[1;31m:\u001b[0m invalid syntax\n"
     ]
    }
   ],
   "source": [
    "del dict_1[\"hobbies\"]=\"reading\",\"writting\""
   ]
  },
  {
   "cell_type": "code",
   "execution_count": 40,
   "id": "cfd11e3d",
   "metadata": {},
   "outputs": [
    {
     "data": {
      "text/plain": [
       "3"
      ]
     },
     "execution_count": 40,
     "metadata": {},
     "output_type": "execute_result"
    }
   ],
   "source": [
    "len(dict_1)"
   ]
  },
  {
   "cell_type": "code",
   "execution_count": null,
   "id": "7d5f2a69",
   "metadata": {},
   "outputs": [],
   "source": []
  }
 ],
 "metadata": {
  "kernelspec": {
   "display_name": "Python 3 (ipykernel)",
   "language": "python",
   "name": "python3"
  },
  "language_info": {
   "codemirror_mode": {
    "name": "ipython",
    "version": 3
   },
   "file_extension": ".py",
   "mimetype": "text/x-python",
   "name": "python",
   "nbconvert_exporter": "python",
   "pygments_lexer": "ipython3",
   "version": "3.11.5"
  }
 },
 "nbformat": 4,
 "nbformat_minor": 5
}
